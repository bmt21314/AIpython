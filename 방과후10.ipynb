{
  "nbformat": 4,
  "nbformat_minor": 0,
  "metadata": {
    "colab": {
      "name": "방과후10.ipynb",
      "provenance": [],
      "authorship_tag": "ABX9TyMV85VXarML2w2iYsADaLC0",
      "include_colab_link": true
    },
    "kernelspec": {
      "name": "python3",
      "display_name": "Python 3"
    }
  },
  "cells": [
    {
      "cell_type": "markdown",
      "metadata": {
        "id": "view-in-github",
        "colab_type": "text"
      },
      "source": [
        "<a href=\"https://colab.research.google.com/github/bmt21314/AIpython/blob/master/%EB%B0%A9%EA%B3%BC%ED%9B%8410.ipynb\" target=\"_parent\"><img src=\"https://colab.research.google.com/assets/colab-badge.svg\" alt=\"Open In Colab\"/></a>"
      ]
    },
    {
      "cell_type": "markdown",
      "metadata": {
        "id": "aUPa1nKUBXao",
        "colab_type": "text"
      },
      "source": [
        "#Keras AI"
      ]
    },
    {
      "cell_type": "code",
      "metadata": {
        "id": "lXpEHcuo_FUj",
        "colab_type": "code",
        "colab": {
          "base_uri": "https://localhost:8080/",
          "height": 34
        },
        "outputId": "a151ba12-f0e2-4e60-e09e-f5eec06df7e7"
      },
      "source": [
        "print(\"Hello Github\")"
      ],
      "execution_count": 1,
      "outputs": [
        {
          "output_type": "stream",
          "text": [
            "Hello Github\n"
          ],
          "name": "stdout"
        }
      ]
    }
  ]
}